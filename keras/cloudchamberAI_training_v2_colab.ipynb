{
 "cells": [
  {
   "cell_type": "markdown",
   "metadata": {},
   "source": [
    "[![Open In Colab](https://colab.research.google.com/assets/colab-badge.svg)](https://colab.research.google.com/github/ottolau/CloudChamberTrackClassification/blob/master/keras/cloudchamberAI_training_v2_colab.ipynb)"
   ]
  },
  {
   "cell_type": "markdown",
   "metadata": {},
   "source": [
    "Google colab libaray imports"
   ]
  },
  {
   "cell_type": "code",
   "execution_count": null,
   "metadata": {
    "colab": {},
    "colab_type": "code",
    "id": "y2od032abry6"
   },
   "outputs": [],
   "source": [
    "using_colab = False"
   ]
  },
  {
   "cell_type": "code",
   "execution_count": null,
   "metadata": {
    "colab": {},
    "colab_type": "code",
    "id": "jXeS_ZzKbqUt"
   },
   "outputs": [],
   "source": [
    "if using_colab:\n",
    "    from google.colab import drive\n",
    "    from google.colab import files as cfiles\n",
    "    from googleapiclient.http import MediaFileUpload\n",
    "    \n",
    "    !nvidia-smi"
   ]
  },
  {
   "cell_type": "markdown",
   "metadata": {
    "colab_type": "text",
    "id": "mvhfuTVeb_9O"
   },
   "source": [
    "Python libaray imports"
   ]
  },
  {
   "cell_type": "code",
   "execution_count": null,
   "metadata": {
    "colab": {},
    "colab_type": "code",
    "id": "K1E0KR1DZ84y"
   },
   "outputs": [],
   "source": [
    "\"\"\"Python file path, image, and data processing libraries.\"\"\"\n",
    "import random\n",
    "import os\n",
    "import cv2\n",
    "import pandas as pd\n",
    "import numpy as np\n",
    "import matplotlib.pyplot as plt\n",
    "from PIL import Image"
   ]
  },
  {
   "cell_type": "code",
   "execution_count": null,
   "metadata": {
    "colab": {},
    "colab_type": "code",
    "id": "LbMcnJ_zZ845"
   },
   "outputs": [],
   "source": [
    "\"\"\"Deep learning libraries.\"\"\"\n",
    "import tensorflow as tf\n",
    "import keras\n",
    "from keras import backend as K\n",
    "from keras.optimizers import Adam, SGD, Adagrad, Adadelta\n",
    "from keras.callbacks import ModelCheckpoint, EarlyStopping, ReduceLROnPlateau, LearningRateScheduler, CSVLogger\n",
    "from keras.models import Model, Sequential, load_model, model_from_json\n",
    "from keras.layers import Flatten, Dense, Activation, Input, Dropout, Activation, BatchNormalization, Reshape\n",
    "from keras.layers import Conv2D, MaxPooling2D, GlobalAveragePooling2D\n",
    "from keras.regularizers import l2\n",
    "from keras.layers import Dense, Conv2D, BatchNormalization, Activation\n",
    "from keras.layers import AveragePooling2D, Input, Flatten\n",
    "from keras.optimizers import Adam\n",
    "from keras import regularizers\n",
    "from keras.utils.np_utils import to_categorical\n",
    "from imgaug import augmenters as iaa\n"
   ]
  },
  {
   "cell_type": "code",
   "execution_count": null,
   "metadata": {
    "colab": {},
    "colab_type": "code",
    "id": "piYMaNhEZ848"
   },
   "outputs": [],
   "source": [
    "\"\"\"Sklearn functions that will help training\"\"\"\n",
    "from sklearn.model_selection import train_test_split\n",
    "from sklearn.preprocessing import MultiLabelBinarizer\n",
    "from sklearn.utils import compute_class_weight\n",
    "from sklearn.metrics import classification_report, confusion_matrix"
   ]
  },
  {
   "cell_type": "markdown",
   "metadata": {
    "colab_type": "text",
    "id": "Kkdbl_n1AJON"
   },
   "source": [
    "Select pretrained model"
   ]
  },
  {
   "cell_type": "code",
   "execution_count": null,
   "metadata": {
    "colab": {},
    "colab_type": "code",
    "id": "G4bcekgXAQBR"
   },
   "outputs": [],
   "source": [
    "PRETRAINED_MODEL = \"VGG19\"\n",
    "\n",
    "if PRETRAINED_MODEL == \"ResNet50\":\n",
    "    # Keras ResNet routines\n",
    "    from keras.applications.resnet50 import ResNet50  # Import the ResNet deep neural network\n",
    "    #from keras.preprocessing import image  # Routines for loading image data\n",
    "    from keras.applications.resnet50 import preprocess_input  # ResNet-specific routines for preprocessing images\n",
    "    #from keras.applications.resnet50 import decode_predictions  # ResNet-specific routines for extracting predictions\n",
    "\n",
    "if PRETRAINED_MODEL == \"VGG16\":\n",
    "    # Keras VGG16 routines\n",
    "    from keras.applications.vgg16 import VGG16\n",
    "    from keras.applications.vgg16 import preprocess_input\n",
    "    #from keras.applications.vgg16 import decode_predictions\n",
    "    \n",
    "if PRETRAINED_MODEL == \"VGG19\":\n",
    "    # Keras VGG19 routines\n",
    "    from keras.applications.vgg19 import VGG19\n",
    "    from keras.applications.vgg19 import preprocess_input\n",
    "    #from keras.applications.vgg19 import decode_predictions\n",
    "    \n",
    "if PRETRAINED_MODEL == \"InceptionV3\":\n",
    "    # Keras InceptionV3 routines\n",
    "    from keras.applications.inceptionV3 import InceptionV3\n",
    "    from keras.applications.inceptionV3 import preprocess_input\n",
    "    #from keras.applications.inceptionV3 import decode_predictions\n",
    "    \n",
    "if PRETRAINED_MODEL == \"InceptionResNetV2\":\n",
    "    # Keras InceptionResNetV2 routines\n",
    "    from keras.applications.inception_resnet_v2 import InceptionResNetV2\n",
    "    from keras.applications.inception_resnet_v2 import preprocess_input\n",
    "    #from keras.applications.inception_resnet_v2 import decode_predictions"
   ]
  },
  {
   "cell_type": "markdown",
   "metadata": {
    "colab_type": "text",
    "id": "mwGfxIHoZ84_"
   },
   "source": [
    "Globals, file paths, and file inspection"
   ]
  },
  {
   "cell_type": "code",
   "execution_count": null,
   "metadata": {
    "colab": {},
    "colab_type": "code",
    "id": "CzAui0EZZ85A"
   },
   "outputs": [],
   "source": [
    "VERSION = 'v0'  # Model version\n",
    "NUM_CLASSES = 3\n",
    "INPUT_SHAPE = [256, 256, 3]\n",
    "#INPUT_SHAPE = [224, 224, 3]\n",
    "TRAIN_BATCH_SIZE = 16\n",
    "VAL_BATCH_SIZE = 16\n",
    "EPOCHS = 120\n",
    "PRETRAINED = True\n",
    "\n",
    "ROOT_DIR = \".\"\n",
    "MYDRIVE_DIR = \"/content/gdrive/My Drive\"\n",
    "if using_colab:\n",
    "    NUM_WORKERS = 8\n",
    "    ROOT_DIR = \"/content\"\n",
    "    drive.mount(\"/content/gdrive\")\n",
    "    # After executing the cell above, Drive\n",
    "    # files will be present in \"/content/drive/My Drive\".\n",
    "    !ls \"/content/gdrive/My Drive\"\n",
    "    input_csv_path = os.path.join(MYDRIVE_DIR, 'Data')\n",
    "    data_path = MYDRIVE_DIR\n",
    "    checkpoint_path = MYDRIVE_DIR\n",
    "    \n",
    "else:\n",
    "    input_csv_path = '../Data'\n",
    "    data_path = '..'\n",
    "    checkpoint_path = '.'\n",
    "    \n",
    "input_csv = 'mapping_all.csv'\n",
    "\n",
    "labels_path = os.path.join(input_csv_path, input_csv)\n",
    "#print(os.listdir(data_path))"
   ]
  },
  {
   "cell_type": "markdown",
   "metadata": {
    "colab_type": "text",
    "id": "gnhTvBdJfpIK"
   },
   "source": [
    "Load CSV file"
   ]
  },
  {
   "cell_type": "code",
   "execution_count": null,
   "metadata": {
    "colab": {},
    "colab_type": "code",
    "id": "3V4euxM3ed7F"
   },
   "outputs": [],
   "source": [
    "train_label_csv = pd.read_csv(labels_path, index_col=False)  # Pandas for reading csv\n",
    "\n",
    "classWeight = compute_class_weight('balanced', np.unique(train_label_csv.Target), train_label_csv.Target) \n",
    "classWeight = dict(enumerate(classWeight))\n",
    "print(classWeight)\n",
    "\n",
    "def curate_dataset(data_csv):\n",
    "    \"\"\"Convert data csv into a list of dicts.\"\"\"\n",
    "    dataset = []\n",
    "    for name, label in zip(data_csv.Id, data_csv.Target):\n",
    "        #print(label)\n",
    "        dataset += [{\n",
    "            'path': os.path.join(data_path, name),\n",
    "            'label': label}]\n",
    "    dataset = np.array(dataset)\n",
    "    return dataset\n",
    "\n",
    "train_dataset = curate_dataset(train_label_csv)\n",
    "print(train_dataset[:10])"
   ]
  },
  {
   "cell_type": "markdown",
   "metadata": {
    "colab_type": "text",
    "id": "c_FqNBIRZ85C"
   },
   "source": [
    "Split dataset into training/validation folds for model selection"
   ]
  },
  {
   "cell_type": "code",
   "execution_count": null,
   "metadata": {
    "colab": {},
    "colab_type": "code",
    "id": "7jDf5Gz1Z85D"
   },
   "outputs": [],
   "source": [
    "train_ids, test_ids, train_targets, test_target = train_test_split(\n",
    "    train_label_csv.Id,\n",
    "    train_label_csv.Target,\n",
    "    test_size=0.5,\n",
    "    random_state=42)\n",
    "print(len(train_ids))\n",
    "# print(train_targets)"
   ]
  },
  {
   "cell_type": "markdown",
   "metadata": {
    "colab_type": "text",
    "id": "yo-ceXmQZ85E"
   },
   "source": [
    "Create a data generator class for processing and loading data into our model"
   ]
  },
  {
   "cell_type": "code",
   "execution_count": null,
   "metadata": {
    "colab": {},
    "colab_type": "code",
    "id": "C42OD2J0Z85F"
   },
   "outputs": [],
   "source": [
    "class DataGenerator:\n",
    "    \"\"\"Data generator for feeding data to keras\"\"\"\n",
    "    def __init__(self,\n",
    "            label_dims=3,\n",
    "            max_image=255.,\n",
    "            batch_size=16,\n",
    "            proc_img_size=[256, 256, 3],\n",
    "            train=False):\n",
    "        self.label_dims = label_dims\n",
    "        self.max_image = max_image\n",
    "        self.batch_size = batch_size\n",
    "        self.proc_img_size = proc_img_size  # Crop to this size\n",
    "        self.train = train\n",
    "\n",
    "    def build(self, dataset_info, augument=True, pretrained=True):\n",
    "        \"\"\"Data processing routines for training.\"\"\"\n",
    "        while True:\n",
    "            random_indexes = np.random.choice(len(dataset_info), self.batch_size)\n",
    "            batch_images = np.empty(([self.batch_size] + self.proc_img_size))\n",
    "            batch_labels = np.zeros((self.batch_size, self.label_dims))\n",
    "            for i, idx in enumerate(random_indexes):\n",
    "                if pretrained:\n",
    "                    image = self.load_image(dataset_info[idx]['path'])\n",
    "                    image = preprocess_input(image)\n",
    "                    image = self.augmentations(image)\n",
    "                else:\n",
    "                    image = self.load_image(dataset_info[idx]['path']).astype(np.float32)\n",
    "                    image = self.augmentations(image)\n",
    "                    image /= self.max_image  # Normalize\n",
    "                    image = np.maximum(np.minimum(image, 1), 0)  # Clip\n",
    "                batch_images[i] = image\n",
    "                batch_labels[i][dataset_info[idx]['label']] = 1\n",
    "            yield batch_images, batch_labels\n",
    "    \n",
    "    def load_image(self, path):\n",
    "        \"\"\"Preprocess image.\"\"\"\n",
    "        if self.proc_img_size[-1] == 3:\n",
    "            #image = np.array(Image.open(path))[:,:,:3]\n",
    "            image = Image.open(path)\n",
    "            image = image.convert('RGB')\n",
    "            image = np.array(image)[:,:,:3]\n",
    "            image = cv2.resize(image, (self.proc_img_size[0], self.proc_img_size[1]))\n",
    "        return image\n",
    "\n",
    "    def augmentations(self, image):\n",
    "        \"\"\"Apply data augmentations to training images.\"\"\"\n",
    "        if self.train:\n",
    "            augment_img = iaa.Sequential([\n",
    "                iaa.OneOf([\n",
    "                    iaa.Affine(rotate=0),\n",
    "                    iaa.Affine(rotate=90),\n",
    "                    iaa.Affine(rotate=180),\n",
    "                    iaa.Affine(rotate=270),\n",
    "                    iaa.Fliplr(0.5),\n",
    "                    iaa.Flipud(0.5),\n",
    "                    # iaa.ElasticTransformation(alpha=(0.5, 3.5), sigma=0.25)\n",
    "                    # iaa.PiecewiseAffine(scale=(0.01, 0.05))\n",
    "                ]),\n",
    "                iaa.Fliplr(0.5),\n",
    "                iaa.Flipud(0.5),\n",
    "                #iaa.Multiply((0.5, 1.5), per_channel=0.5),\n",
    "                iaa.CropToFixedSize(\n",
    "                    width=self.proc_img_size[0],\n",
    "                    height=self.proc_img_size[1],\n",
    "                    position='uniform')],\n",
    "            random_order=True)\n",
    "        else:\n",
    "            augment_img = iaa.Sequential([\n",
    "                iaa.CropToFixedSize(\n",
    "                    width=self.proc_img_size[0],\n",
    "                    height=self.proc_img_size[1],\n",
    "                    position='center')])\n",
    "        image_aug = augment_img.augment_image(image)\n",
    "        return image_aug\n",
    "\n",
    "    \n",
    "# Create train/val datagens\n",
    "train_datagen = DataGenerator(\n",
    "    batch_size=TRAIN_BATCH_SIZE,\n",
    "    proc_img_size=INPUT_SHAPE,\n",
    "    label_dims=NUM_CLASSES,\n",
    "    train=False)\n",
    "train_datagen = train_datagen.build(\n",
    "    dataset_info=train_dataset[train_ids.index], pretrained=PRETRAINED)\n",
    "val_datagen = DataGenerator(\n",
    "    batch_size=VAL_BATCH_SIZE,\n",
    "    proc_img_size=INPUT_SHAPE,\n",
    "    label_dims=NUM_CLASSES,\n",
    "    train=False)\n",
    "val_datagen = val_datagen.build(\n",
    "    dataset_info=train_dataset[test_ids.index], pretrained=PRETRAINED)\n",
    "# train_datagen = DataGenerator(proc_img_size=[224, 224, 3], imagenet_proc=True)\n",
    "\n",
    "# Create datagens for inspection\n",
    "train_inspect_datagen = DataGenerator(\n",
    "    batch_size=TRAIN_BATCH_SIZE,\n",
    "    proc_img_size=INPUT_SHAPE,\n",
    "    label_dims=NUM_CLASSES,\n",
    "    train=False)\n",
    "train_inspect_datagen = train_inspect_datagen.build(\n",
    "    dataset_info=train_dataset[train_ids.index], pretrained=False)\n",
    "val_inspect_datagen = DataGenerator(\n",
    "    batch_size=VAL_BATCH_SIZE,\n",
    "    proc_img_size=INPUT_SHAPE,\n",
    "    label_dims=NUM_CLASSES,\n",
    "    train=False)\n",
    "val_inspect_datagen = val_inspect_datagen.build(\n",
    "    dataset_info=train_dataset[test_ids.index], pretrained=False)"
   ]
  },
  {
   "cell_type": "markdown",
   "metadata": {
    "colab_type": "text",
    "id": "uPkYqD0hZ85H"
   },
   "source": [
    "Inspect data"
   ]
  },
  {
   "cell_type": "code",
   "execution_count": null,
   "metadata": {
    "colab": {},
    "colab_type": "code",
    "id": "9bNncm4NZ85H"
   },
   "outputs": [],
   "source": [
    "def plot_images(images, labels, title, num_ims=8):\n",
    "    \"\"\"Plot mosaic of images with matplotlib.\"\"\"\n",
    "    fig, axs = plt.subplots(1, num_ims, figsize=(25,5))\n",
    "    plt.suptitle(title)\n",
    "    for idx, (ax, im, lab) in enumerate(zip(axs, images, labels)):\n",
    "        ax.imshow(im.squeeze())\n",
    "        ax.axis('off')\n",
    "        ax.set_title('Label: %s' % np.where(lab)[0])\n",
    "    # plt.show()  # Only if not executing in ipython notebook\n",
    "    print('{0} range, min: {1}, max: {2}'.format(title, images.min(), images.max()))\n",
    "\n",
    "images, labels = next(train_inspect_datagen)\n",
    "plot_images(images=images, labels=labels, title='Train')\n",
    "images, labels = next(val_inspect_datagen)\n",
    "plot_images(images=images, labels=labels, title='Val')"
   ]
  },
  {
   "cell_type": "markdown",
   "metadata": {
    "colab_type": "text",
    "id": "RNSdi1R5Z85J"
   },
   "source": [
    "--------------------------------------------------------------------------------------"
   ]
  },
  {
   "cell_type": "markdown",
   "metadata": {
    "colab_type": "text",
    "id": "QACw1MkoZ85J"
   },
   "source": [
    "Build a model"
   ]
  },
  {
   "cell_type": "code",
   "execution_count": null,
   "metadata": {
    "colab": {},
    "colab_type": "code",
    "id": "Vo_3ODZEZ85J"
   },
   "outputs": [],
   "source": [
    "def resnet_layer(\n",
    "        inputs,\n",
    "        num_filters=16,\n",
    "        kernel_size=3,\n",
    "        strides=1,\n",
    "        activation='relu',\n",
    "        batch_normalization=True,\n",
    "        conv_first=True):\n",
    "    \"\"\"2D Convolution-Batch Normalization-Activation stack builder\n",
    "\n",
    "    # Arguments\n",
    "        inputs (tensor): input tensor from input image or previous layer\n",
    "        num_filters (int): Conv2D number of filters\n",
    "        kernel_size (int): Conv2D square kernel dimensions\n",
    "        strides (int): Conv2D square stride dimensions\n",
    "        activation (string): activation name\n",
    "        batch_normalization (bool): whether to include batch normalization\n",
    "        conv_first (bool): conv-bn-activation (True) or\n",
    "            bn-activation-conv (False)\n",
    "\n",
    "    # Returns\n",
    "        x (tensor): tensor as input to the next layer\n",
    "    \"\"\"\n",
    "    conv = Conv2D(num_filters,\n",
    "                  kernel_size=kernel_size,\n",
    "                  strides=strides,\n",
    "                  padding='same',\n",
    "                  kernel_initializer='he_normal',\n",
    "                  kernel_regularizer=l2(1e-4))\n",
    "\n",
    "    x = inputs\n",
    "    if conv_first:\n",
    "        x = conv(x)\n",
    "        if batch_normalization:\n",
    "            x = BatchNormalization()(x)\n",
    "        if activation is not None:\n",
    "            x = Activation(activation)(x)\n",
    "    else:\n",
    "        if batch_normalization:\n",
    "            x = BatchNormalization()(x)\n",
    "        if activation is not None:\n",
    "            x = Activation(activation)(x)\n",
    "        x = conv(x)\n",
    "    return x\n",
    "\n",
    "def resnet_v2(input_shape, depth, num_classes=NUM_CLASSES):\n",
    "    \"\"\"ResNet Version 2 Model builder [b]\n",
    "\n",
    "    Stacks of (1 x 1)-(3 x 3)-(1 x 1) BN-ReLU-Conv2D or also known as\n",
    "    bottleneck layer\n",
    "    First shortcut connection per layer is 1 x 1 Conv2D.\n",
    "    Second and onwards shortcut connection is identity.\n",
    "    At the beginning of each stage, the feature map size is halved (downsampled)\n",
    "    by a convolutional layer with strides=2, while the number of filter maps is\n",
    "    doubled. Within each stage, the layers have the same number filters and the\n",
    "    same filter map sizes.\n",
    "    Features maps sizes:\n",
    "    conv1  : 32x32,  16\n",
    "    stage 0: 32x32,  64\n",
    "    stage 1: 16x16, 128\n",
    "    stage 2:  8x8,  256\n",
    "\n",
    "    # Arguments\n",
    "        input_shape (tensor): shape of input image tensor\n",
    "        depth (int): number of core convolutional layers\n",
    "        num_classes (int): number of classes (CIFAR10 has 10)\n",
    "\n",
    "    # Returns\n",
    "        model (Model): Keras model instance\n",
    "    \"\"\"\n",
    "    if (depth - 2) % 9 != 0:\n",
    "        raise ValueError('depth should be 9n+2 (eg 56 or 110 in [b])')\n",
    "    # Start model definition.\n",
    "    num_filters_in = 16\n",
    "    num_res_blocks = int((depth - 2) / 9)\n",
    "\n",
    "    inputs = Input(shape=input_shape)\n",
    "    # v2 performs Conv2D with BN-ReLU on input before splitting into 2 paths\n",
    "    x = resnet_layer(inputs=inputs,\n",
    "                     num_filters=num_filters_in,\n",
    "                     conv_first=True)\n",
    "\n",
    "    # Instantiate the stack of residual units\n",
    "    for stage in range(3):\n",
    "        for res_block in range(num_res_blocks):\n",
    "            activation = 'relu'\n",
    "            batch_normalization = True\n",
    "            strides = 1\n",
    "            if stage == 0:\n",
    "                num_filters_out = num_filters_in * 4\n",
    "                if res_block == 0:  # first layer and first stage\n",
    "                    activation = None\n",
    "                    batch_normalization = False\n",
    "            else:\n",
    "                num_filters_out = num_filters_in * 2\n",
    "                if res_block == 0:  # first layer but not first stage\n",
    "                    strides = 2    # downsample\n",
    "\n",
    "            # bottleneck residual unit\n",
    "            y = resnet_layer(inputs=x,\n",
    "                             num_filters=num_filters_in,\n",
    "                             kernel_size=1,\n",
    "                             strides=strides,\n",
    "                             activation=activation,\n",
    "                             batch_normalization=batch_normalization,\n",
    "                             conv_first=False)\n",
    "            y = resnet_layer(inputs=y,\n",
    "                             num_filters=num_filters_in,\n",
    "                             conv_first=False)\n",
    "            y = resnet_layer(inputs=y,\n",
    "                             num_filters=num_filters_out,\n",
    "                             kernel_size=1,\n",
    "                             conv_first=False)\n",
    "            if res_block == 0:\n",
    "                # linear projection residual shortcut connection to match\n",
    "                # changed dims\n",
    "                x = resnet_layer(inputs=x,\n",
    "                                 num_filters=num_filters_out,\n",
    "                                 kernel_size=1,\n",
    "                                 strides=strides,\n",
    "                                 activation=None,\n",
    "                                 batch_normalization=False)\n",
    "            x = keras.layers.add([x, y])\n",
    "        num_filters_in = num_filters_out\n",
    "\n",
    "    # Add classifier on top.\n",
    "    # v2 has BN-ReLU before Pooling\n",
    "    x = BatchNormalization()(x)\n",
    "    x = Activation('relu')(x)\n",
    "    x = AveragePooling2D(pool_size=8)(x)\n",
    "    y = Flatten()(x)\n",
    "    outputs = Dense(\n",
    "        num_classes,\n",
    "        activation='softmax',\n",
    "        kernel_initializer='he_normal')(y)\n",
    "\n",
    "    # Instantiate model.\n",
    "    model = Model(inputs=inputs, outputs=outputs)\n",
    "    return model\n",
    "\n",
    "def build_finetune_model(input_shape, dropout, fc_layers, num_classes, freeze=True):\n",
    "    \"\"\"Load pretrained model, add readout layer, fix the convolutional layers.\"\"\"\n",
    "    global PRETRAINED_MODEL\n",
    "    if PRETRAINED_MODEL == \"ResNet50\":\n",
    "        base_model = ResNet50(\n",
    "           weights='imagenet', \n",
    "           include_top=False, \n",
    "           pooling='avg',\n",
    "           input_shape=input_shape)\n",
    "    \n",
    "    if PRETRAINED_MODEL == \"VGG16\":\n",
    "        base_model = VGG16(\n",
    "           weights='imagenet', \n",
    "           include_top=False, \n",
    "           pooling='avg',\n",
    "           input_shape=input_shape)\n",
    "        \n",
    "    if PRETRAINED_MODEL == \"VGG19\":\n",
    "        base_model = VGG19(\n",
    "           weights='imagenet', \n",
    "           include_top=False, \n",
    "           pooling='avg',\n",
    "           input_shape=input_shape)\n",
    "        \n",
    "    if PRETRAINED_MODEL == \"InceptionV3\":\n",
    "        base_model = InceptionV3(\n",
    "           weights='imagenet', \n",
    "           include_top=False, \n",
    "           pooling='avg',\n",
    "           input_shape=input_shape)\n",
    "        \n",
    "    if PRETRAINED_MODEL == \"InceptionResNetV2\":\n",
    "        base_model = InceptionResNetV2(\n",
    "           weights='imagenet', \n",
    "           include_top=False, \n",
    "           pooling='avg',\n",
    "           input_shape=input_shape)\n",
    "            \n",
    "    if freeze:\n",
    "        for layer in base_model.layers:\n",
    "            layer.trainable = False\n",
    "\n",
    "    x = base_model.output\n",
    "    #x = Flatten()(x)\n",
    "    for fc in fc_layers:\n",
    "        # Apply batch normalization\n",
    "        x = BatchNormalization()(x)\n",
    "        # New FC layer, random init\n",
    "        x = Dense(units=fc, input_shape=input_shape, activation='relu', kernel_regularizer=regularizers.l2(0.0001))(x)\n",
    "        #x = Dense(units=fc, input_shape=input_shape, activation='relu')(x)\n",
    "        x = Dropout(dropout)(x)\n",
    "\n",
    "    # New softmax layer\n",
    "    predictions = Dense(num_classes, activation='softmax')(x) \n",
    "  \n",
    "    finetune_model = Model(inputs=base_model.input, outputs=predictions)\n",
    "\n",
    "    return finetune_model\n",
    "\n",
    "keras.backend.clear_session()\n",
    "\n",
    "if PRETRAINED:\n",
    "    FC_LAYERS  = [64,32,16]  # Add more layers but adding elements to this list\n",
    "    dropout    = 0.25\n",
    "\n",
    "    model = build_finetune_model(\n",
    "        input_shape=INPUT_SHAPE, \n",
    "        dropout=dropout, \n",
    "        fc_layers=FC_LAYERS, \n",
    "        num_classes=NUM_CLASSES)\n",
    "    print(model.summary())\n",
    "    \n",
    "else:\n",
    "    model = resnet_v2(input_shape=INPUT_SHAPE, depth=56)\n",
    "    print(model.summary())"
   ]
  },
  {
   "cell_type": "markdown",
   "metadata": {
    "colab_type": "text",
    "id": "GJwET2miZ85M"
   },
   "source": [
    "Scoring and history functions for training, and model preparation"
   ]
  },
  {
   "cell_type": "code",
   "execution_count": null,
   "metadata": {
    "colab": {},
    "colab_type": "code",
    "id": "QEAPGAlpZ85M"
   },
   "outputs": [],
   "source": [
    "def show_history(history):\n",
    "    \"\"\"Plot training and validation performance.\"\"\"\n",
    "    fig, ax = plt.subplots(1, 3, figsize=(15,5))\n",
    "    ax[0].set_title('loss')\n",
    "    ax[0].plot(history.epoch, history.history[\"loss\"], label=\"Train loss\")\n",
    "    ax[0].plot(history.epoch, history.history[\"val_loss\"], label=\"Validation loss\")\n",
    "    ax[1].set_title('acc')\n",
    "    ax[1].plot(history.epoch, history.history[\"acc\"], label=\"Train acc\")\n",
    "    ax[1].plot(history.epoch, history.history[\"val_acc\"], label=\"Validation acc\")\n",
    "    ax[2].set_title('weighted acc')\n",
    "    ax[2].plot(history.epoch, history.history[\"weighted_acc\"], label=\"Weighted train acc\")\n",
    "    ax[2].plot(history.epoch, history.history[\"val_weighted_acc\"], label=\"Weighted validation acc\")\n",
    "    ax[0].legend()\n",
    "    ax[1].legend()\n",
    "    ax[2].legend()\n",
    "\n",
    "checkpointer = ModelCheckpoint(\n",
    "    os.path.join(checkpoint_path, '%s_resnet_model.h5' % VERSION),\n",
    "    verbose=2,\n",
    "    save_best_only=True)\n",
    "earlyStopping = EarlyStopping(\n",
    "    monitor='val_loss',\n",
    "    min_delta=0,\n",
    "    mode='min',\n",
    "    patience=20,\n",
    "    verbose=0,\n",
    "    restore_best_weights=True)\n",
    "reduce_lr = ReduceLROnPlateau(\n",
    "    monitor='val_loss',\n",
    "    mode='min',\n",
    "    factor=0.2,\n",
    "    patience=3,\n",
    "    min_lr=1e-6,\n",
    "    cooldown=1,\n",
    "    verbose=1)\n",
    "model.compile(\n",
    "    loss='categorical_crossentropy',  \n",
    "    optimizer=Adam(1e-3),\n",
    "    metrics=['accuracy'],\n",
    "    weighted_metrics=['accuracy'])\n"
   ]
  },
  {
   "cell_type": "markdown",
   "metadata": {
    "colab_type": "text",
    "id": "zHas6GARZ85N"
   },
   "source": [
    "Train model"
   ]
  },
  {
   "cell_type": "code",
   "execution_count": null,
   "metadata": {
    "colab": {},
    "colab_type": "code",
    "id": "jtZtWtwrZ85O"
   },
   "outputs": [],
   "source": [
    "num_train_images = len(train_ids)\n",
    "num_test_images = len(test_ids)\n",
    "STEP_PER_EPOCH = num_train_images // TRAIN_BATCH_SIZE\n",
    "VALIDATION_STEPS = num_test_images // VAL_BATCH_SIZE\n",
    "#STEP_PER_EPOCH = 10\n",
    "#VALIDATION_STEPS = 10\n",
    "\n",
    "if using_colab:\n",
    "    history = model.fit_generator(\n",
    "        train_datagen,\n",
    "        #validation_data=next(val_datagen),\n",
    "        validation_data=val_datagen,\n",
    "        class_weight=classWeight,\n",
    "        epochs=EPOCHS, \n",
    "        steps_per_epoch=STEP_PER_EPOCH,\n",
    "        validation_steps=VALIDATION_STEPS,\n",
    "        #workers=NUM_WORKERS,\n",
    "        #use_multiprocessing=True,\n",
    "        verbose=1,\n",
    "        callbacks=[checkpointer, earlyStopping, reduce_lr])\n",
    "  \n",
    "else:\n",
    "    history = model.fit_generator(\n",
    "        train_datagen,\n",
    "        #validation_data=next(val_datagen),\n",
    "        validation_data=val_datagen,\n",
    "        class_weight=classWeight,\n",
    "        epochs=EPOCHS, \n",
    "        steps_per_epoch=STEP_PER_EPOCH,\n",
    "        validation_steps=VALIDATION_STEPS,\n",
    "        verbose=1,\n",
    "        callbacks=[checkpointer, earlyStopping, reduce_lr])"
   ]
  },
  {
   "cell_type": "markdown",
   "metadata": {
    "colab_type": "text",
    "id": "4tDmcBD9Z85P"
   },
   "source": [
    "Show history"
   ]
  },
  {
   "cell_type": "code",
   "execution_count": null,
   "metadata": {
    "colab": {},
    "colab_type": "code",
    "id": "4ARTnHZ6Z85Q"
   },
   "outputs": [],
   "source": [
    "show_history(history)"
   ]
  },
  {
   "cell_type": "markdown",
   "metadata": {
    "colab_type": "text",
    "id": "dx0JWr84Z85R"
   },
   "source": [
    "Confution Matrix and Classification Report"
   ]
  },
  {
   "cell_type": "code",
   "execution_count": null,
   "metadata": {
    "colab": {},
    "colab_type": "code",
    "id": "zAbQl_RJZ85S"
   },
   "outputs": [],
   "source": [
    "y_true = []\n",
    "y_pred = []\n",
    "steps_done = 0\n",
    "while steps_done < VALIDATION_STEPS:\n",
    "    val_datagen_iter = next(val_datagen)\n",
    "    y_true = y_true + np.argmax(val_datagen_iter[1], axis=1).tolist()\n",
    "    y_pred = y_pred + np.argmax(model.predict(val_datagen_iter[0]), axis=1).tolist()\n",
    "    steps_done = steps_done + 1\n",
    "\n",
    "    \n",
    "print('Confusion Matrix')\n",
    "print(confusion_matrix(y_true, y_pred))\n",
    "print('Classification Report')\n",
    "target_names = ['alpha', 'beta', 'muon']\n",
    "print(classification_report(y_true, y_pred, target_names=target_names))"
   ]
  },
  {
   "cell_type": "code",
   "execution_count": null,
   "metadata": {
    "colab": {},
    "colab_type": "code",
    "id": "3FSgZXcZZ85T"
   },
   "outputs": [],
   "source": []
  }
 ],
 "metadata": {
  "accelerator": "GPU",
  "colab": {
   "collapsed_sections": [],
   "name": "cloudchamberAI_training_v2_colab.ipynb",
   "private_outputs": true,
   "provenance": [],
   "version": "0.3.2"
  },
  "kernelspec": {
   "display_name": "Python 3",
   "language": "python",
   "name": "python3"
  },
  "language_info": {
   "codemirror_mode": {
    "name": "ipython",
    "version": 3
   },
   "file_extension": ".py",
   "mimetype": "text/x-python",
   "name": "python",
   "nbconvert_exporter": "python",
   "pygments_lexer": "ipython3",
   "version": "3.7.2"
  }
 },
 "nbformat": 4,
 "nbformat_minor": 1
}
