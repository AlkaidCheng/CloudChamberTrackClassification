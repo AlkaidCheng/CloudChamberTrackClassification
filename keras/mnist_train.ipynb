{
 "cells": [
  {
   "cell_type": "markdown",
   "metadata": {},
   "source": [
    "# Training a digit-classification neural network on the MNIST dataset using Keras\n",
    "\n",
    "The MNIST dataset is one of the most popular benchmark-datasets in modern machine learning. The dataset consists of 70000 images of handwritten digits and associated labels, which can be used to train neural network performing image classification.\n",
    "\n",
    "The following program presents the basic workflow of Keras showing the most import details of the API."
   ]
  },
  {
   "cell_type": "code",
   "execution_count": 1,
   "metadata": {},
   "outputs": [],
   "source": [
    "from os import environ\n",
    "environ[\"KERAS_BACKEND\"] = \"tensorflow\"\n",
    "\n",
    "import numpy as np\n",
    "np.random.seed(1234)\n",
    "\n",
    "import matplotlib.pyplot as plt\n",
    "%matplotlib inline"
   ]
  },
  {
   "cell_type": "code",
   "execution_count": 2,
   "metadata": {},
   "outputs": [],
   "source": [
    "lr_init     = 1.e-3    # Initial learning rate  \n",
    "batch_size  = 64       # Training batch size\n",
    "epochs      = 12       # Number of epochs\n",
    "num_classes = 10       # Number of classes\n",
    "\n",
    "# input image dimensions\n",
    "img_rows, img_cols = 28, 28"
   ]
  },
  {
   "cell_type": "markdown",
   "metadata": {},
   "source": [
    "## Download the dataset\n",
    "\n",
    "The code below downloads the dataset and performs a scaling of the pixel-values of the images. Because the images are encoded with 8-bit unsigned int values, we scale these values to floating-point values in the range `[0, 1)` so that the inputs match the activation of the neurons better."
   ]
  },
  {
   "cell_type": "code",
   "execution_count": 3,
   "metadata": {},
   "outputs": [
    {
     "name": "stderr",
     "output_type": "stream",
     "text": [
      "Using TensorFlow backend.\n"
     ]
    }
   ],
   "source": [
    "from keras.datasets import mnist\n",
    "from keras.optimizers import Adam\n",
    "from keras.utils.np_utils import to_categorical\n",
    "\n",
    "# Download dataset\n",
    "(x_train, y_train), (x_test, y_test) = mnist.load_data()\n",
    "\n",
    "# The data is loaded as flat array with 784 entries (28x28),\n",
    "# we need to reshape it into an array with shape:\n",
    "# (num_images, pixels_row, pixels_column, color channels)\n",
    "x_train = x_train.reshape(x_train.shape[0], img_rows, img_cols, 1)\n",
    "x_test = x_test.reshape(x_test.shape[0], img_rows, img_cols, 1)\n",
    "input_shape = (img_rows, img_cols, 1)\n",
    "\n",
    "# Convert the uint8 PNG greyscale pixel values in range [0, 255]\n",
    "# to floats in range [0, 1]\n",
    "x_train = x_train.astype(\"float32\")\n",
    "x_test = x_test.astype(\"float32\")\n",
    "x_train /= 255\n",
    "x_test /= 255\n",
    "\n",
    "# Convert digits to one-hot vectors, e.g.,\n",
    "# 2 -> [0 0 1 0 0 0 0 0 0 0]\n",
    "# 0 -> [1 0 0 0 0 0 0 0 0 0]\n",
    "# 9 -> [0 0 0 0 0 0 0 0 0 1]\n",
    "y_train = to_categorical(y_train, num_classes)\n",
    "y_test = to_categorical(y_test, num_classes)"
   ]
  },
  {
   "cell_type": "markdown",
   "metadata": {},
   "source": [
    "Addtionally, we store some example images to disk to show later on the inference part of the Keras API."
   ]
  },
  {
   "cell_type": "code",
   "execution_count": 4,
   "metadata": {},
   "outputs": [
    {
     "data": {
      "image/png": "[encoded data removed]",
      "text/plain": [
       "<Figure size 576x144 with 4 Axes>"
      ]
     },
     "metadata": {
      "needs_background": "light"
     },
     "output_type": "display_data"
    }
   ],
   "source": [
    "import png\n",
    "\n",
    "num_examples = 4\n",
    "plt.figure(figsize=(num_examples*2, 2))\n",
    "for i in range(num_examples):\n",
    "    plt.subplot(1, num_examples, i+1)\n",
    "    plt.axis('off')\n",
    "    example = np.squeeze(np.array(x_test[i]*255).astype(\"uint8\"))\n",
    "    plt.imshow(example, cmap=\"gray\")\n",
    "    #w = png.Writer(28, 28, greyscale=True)\n",
    "    #w.write(open(\"mnist_example_{}.png\".format(i+1), 'wb'), example)"
   ]
  },
  {
   "cell_type": "markdown",
   "metadata": {},
   "source": [
    "## Define the model\n",
    "\n",
    "The model definition in Keras can be done using the `Sequential` or the functional API. Shown here is the `Sequential` API allowing to stack neural network layers on top of each other, which is feasible for most neural network models. In contrast, the functional API would allow to have multiple inputs and outputs for a maximum of flexibility to build your custom model."
   ]
  },
  {
   "cell_type": "code",
   "execution_count": 5,
   "metadata": {},
   "outputs": [
    {
     "name": "stdout",
     "output_type": "stream",
     "text": [
      "_________________________________________________________________\n",
      "Layer (type)                 Output Shape              Param #   \n",
      "=================================================================\n",
      "conv2d_1 (Conv2D)            (None, 26, 26, 32)        320       \n",
      "_________________________________________________________________\n",
      "conv2d_2 (Conv2D)            (None, 24, 24, 64)        18496     \n",
      "_________________________________________________________________\n",
      "max_pooling2d_1 (MaxPooling2 (None, 12, 12, 64)        0         \n",
      "_________________________________________________________________\n",
      "dropout_1 (Dropout)          (None, 12, 12, 64)        0         \n",
      "_________________________________________________________________\n",
      "flatten_1 (Flatten)          (None, 9216)              0         \n",
      "_________________________________________________________________\n",
      "dense_1 (Dense)              (None, 128)               1179776   \n",
      "_________________________________________________________________\n",
      "dropout_2 (Dropout)          (None, 128)               0         \n",
      "_________________________________________________________________\n",
      "dense_2 (Dense)              (None, 10)                1290      \n",
      "=================================================================\n",
      "Total params: 1,199,882\n",
      "Trainable params: 1,199,882\n",
      "Non-trainable params: 0\n",
      "_________________________________________________________________\n"
     ]
    }
   ],
   "source": [
    "from keras.models import Sequential\n",
    "from keras.layers import Dense, Dropout, Flatten, MaxPooling2D, Conv2D\n",
    "\n",
    "model = Sequential()\n",
    "model.add(Conv2D(32, kernel_size=(3, 3),\n",
    "                 activation='relu',\n",
    "                 input_shape=input_shape))\n",
    "model.add(Conv2D(64, (3, 3), activation='relu'))\n",
    "model.add(MaxPooling2D(pool_size=(2, 2)))\n",
    "model.add(Dropout(0.25))\n",
    "model.add(Flatten())\n",
    "model.add(Dense(128, activation='relu'))\n",
    "model.add(Dropout(0.5))\n",
    "model.add(Dense(num_classes, activation='softmax'))\n",
    "\n",
    "# Print model summary\n",
    "model.summary()"
   ]
  },
  {
   "cell_type": "markdown",
   "metadata": {},
   "source": [
    "## Compile the model\n",
    "\n",
    "Using Keras, you have to `compile` a model, which means adding the loss function, the optimizer algorithm and validation metrics to your training setup."
   ]
  },
  {
   "cell_type": "code",
   "execution_count": 6,
   "metadata": {},
   "outputs": [],
   "source": [
    "model.compile(loss=\"categorical_crossentropy\",\n",
    "        optimizer=Adam(lr=lr_init),\n",
    "        metrics=[\"accuracy\"])"
   ]
  },
  {
   "cell_type": "markdown",
   "metadata": {},
   "source": [
    "## Train the model\n",
    "\n",
    "The cell below shows the training procedure of Keras using the `model.fit(...)` method. Besides typical options such as `batch_size` and `epochs`, which control the number of gradient steps of your training, Keras allows to use callbacks during training.\n",
    "\n",
    "Callbacks are methods, which are called during training to perform tasks such as saving checkpoints of the model (`ModelCheckpoint`) or stop the training early if a convergence criteria is met (`EarlyStopping`)."
   ]
  },
  {
   "cell_type": "code",
   "execution_count": 7,
   "metadata": {},
   "outputs": [
    {
     "name": "stdout",
     "output_type": "stream",
     "text": [
      "Train on 30000 samples, validate on 30000 samples\n",
      "Epoch 1/12\n",
      "30000/30000 [==============================] - 38s 1ms/step - loss: 0.2994 - acc: 0.9063 - val_loss: 0.0829 - val_acc: 0.9751\n",
      "\n",
      "Epoch 00001: val_loss improved from inf to 0.08288, saving model to mnist_model.h5\n",
      "Epoch 2/12\n",
      "30000/30000 [==============================] - 38s 1ms/step - loss: 0.1112 - acc: 0.9665 - val_loss: 0.0621 - val_acc: 0.9815\n",
      "\n",
      "Epoch 00002: val_loss improved from 0.08288 to 0.06207, saving model to mnist_model.h5\n",
      "Epoch 3/12\n",
      "30000/30000 [==============================] - 39s 1ms/step - loss: 0.0786 - acc: 0.9759 - val_loss: 0.0572 - val_acc: 0.9836\n",
      "\n",
      "Epoch 00003: val_loss improved from 0.06207 to 0.05716, saving model to mnist_model.h5\n",
      "Epoch 4/12\n",
      "30000/30000 [==============================] - 39s 1ms/step - loss: 0.0644 - acc: 0.9801 - val_loss: 0.0493 - val_acc: 0.9857\n",
      "\n",
      "Epoch 00004: val_loss improved from 0.05716 to 0.04928, saving model to mnist_model.h5\n",
      "Epoch 5/12\n",
      "30000/30000 [==============================] - 38s 1ms/step - loss: 0.0535 - acc: 0.9838 - val_loss: 0.0492 - val_acc: 0.9859\n",
      "\n",
      "Epoch 00005: val_loss improved from 0.04928 to 0.04917, saving model to mnist_model.h5\n",
      "Epoch 6/12\n",
      "30000/30000 [==============================] - 38s 1ms/step - loss: 0.0476 - acc: 0.9854 - val_loss: 0.0499 - val_acc: 0.9853\n",
      "\n",
      "Epoch 00006: val_loss did not improve from 0.04917\n",
      "Epoch 7/12\n",
      "30000/30000 [==============================] - 38s 1ms/step - loss: 0.0389 - acc: 0.9877 - val_loss: 0.0495 - val_acc: 0.9856\n",
      "\n",
      "Epoch 00007: val_loss did not improve from 0.04917\n"
     ]
    }
   ],
   "source": [
    "from keras.callbacks import ModelCheckpoint, EarlyStopping\n",
    "\n",
    "checkpoint = ModelCheckpoint(\n",
    "            filepath=\"mnist_model.h5\",\n",
    "            save_best_only=True,\n",
    "            verbose=1)\n",
    "early_stopping = EarlyStopping(patience=2)\n",
    "\n",
    "history = model.fit(x_train, y_train, # Training data\n",
    "            batch_size=batch_size, # Batch size\n",
    "            epochs=epochs, # Maximum number of training epochs\n",
    "            validation_split=0.5, # Use 50% of the train dataset for validation\n",
    "            callbacks=[checkpoint, early_stopping]) # Register callbacks"
   ]
  },
  {
   "cell_type": "code",
   "execution_count": 8,
   "metadata": {},
   "outputs": [
    {
     "data": {
      "image/png": "[encoded data removed]",
      "text/plain": [
       "<Figure size 720x360 with 2 Axes>"
      ]
     },
     "metadata": {
      "needs_background": "light"
     },
     "output_type": "display_data"
    }
   ],
   "source": [
    "epochs = range(1, len(history.history[\"loss\"])+1)\n",
    "plt.figure(figsize=(10,5))\n",
    "plt.subplot(1, 2, 1)\n",
    "plt.plot(epochs, history.history[\"loss\"], label=\"Training loss\")\n",
    "plt.plot(epochs, history.history[\"val_loss\"], label=\"Validation loss\")\n",
    "plt.legend(), plt.xlabel(\"Epochs\"), plt.ylabel(\"Loss\")\n",
    "plt.subplot(1, 2, 2)\n",
    "plt.plot(epochs, history.history[\"acc\"], label=\"Training accuracy\")\n",
    "plt.plot(epochs, history.history[\"val_acc\"], label=\"Validation accuracy\")\n",
    "plt.legend(), plt.xlabel(\"Epochs\"), plt.ylabel(\"Accuracy\");"
   ]
  },
  {
   "cell_type": "markdown",
   "metadata": {},
   "source": [
    "## Test the model\n",
    "\n",
    "The prediction of unseen data is performed using the `model.predict(inputs)` call. Below, a basic test of the model is done by calculating the accuracy on the test dataset."
   ]
  },
  {
   "cell_type": "code",
   "execution_count": 9,
   "metadata": {},
   "outputs": [
    {
     "name": "stdout",
     "output_type": "stream",
     "text": [
      "Test accuracy: 0.988\n",
      "('Test loss:', 0.04034445583633278)\n",
      "('Test accuracy:', 0.988)\n"
     ]
    }
   ],
   "source": [
    "# Get predictions on test dataset\n",
    "y_pred = model.predict(x_test)\n",
    "\n",
    "# Compare predictions with ground truth\n",
    "test_accuracy = np.sum(\n",
    "        np.argmax(y_test, axis=1)==np.argmax(y_pred, axis=1))/float(x_test.shape[0])\n",
    "\n",
    "print(\"Test accuracy: {}\".format(test_accuracy))\n",
    "\n",
    "score = model.evaluate(x_test, y_test, verbose=0)\n",
    "print('Test loss:', score[0])\n",
    "print('Test accuracy:', score[1])"
   ]
  },
  {
   "cell_type": "code",
   "execution_count": null,
   "metadata": {},
   "outputs": [],
   "source": []
  }
 ],
 "metadata": {
  "kernelspec": {
   "display_name": "Python 2",
   "language": "python",
   "name": "python2"
  },
  "language_info": {
   "codemirror_mode": {
    "name": "ipython",
    "version": 2
   },
   "file_extension": ".py",
   "mimetype": "text/x-python",
   "name": "python",
   "nbconvert_exporter": "python",
   "pygments_lexer": "ipython2",
   "version": "2.7.15"
  }
 },
 "nbformat": 4,
 "nbformat_minor": 2
}
