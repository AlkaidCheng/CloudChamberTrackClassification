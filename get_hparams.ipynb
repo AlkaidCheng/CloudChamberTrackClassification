{
  "nbformat": 4,
  "nbformat_minor": 0,
  "metadata": {
    "colab": {
      "name": "Copy of get_hparams.ipynb",
      "provenance": [],
      "include_colab_link": true
    },
    "kernelspec": {
      "name": "python3",
      "display_name": "Python 3"
    }
  },
  "cells": [
    {
      "cell_type": "markdown",
      "metadata": {
        "id": "view-in-github",
        "colab_type": "text"
      },
      "source": [
        "<a href=\"https://colab.research.google.com/github/AlkaidCheng/CloudChamberTrackClassification/blob/master/get_hparams.ipynb\" target=\"_parent\"><img src=\"https://colab.research.google.com/assets/colab-badge.svg\" alt=\"Open In Colab\"/></a>"
      ]
    },
    {
      "cell_type": "code",
      "metadata": {
        "id": "oG0sbJnphYSe",
        "colab_type": "code",
        "outputId": "762eb913-60b3-49e9-c475-509902b34355",
        "colab": {
          "base_uri": "https://localhost:8080/",
          "height": 600
        }
      },
      "source": [
        "! pip install ray[tune]"
      ],
      "execution_count": 0,
      "outputs": [
        {
          "output_type": "stream",
          "text": [
            "Requirement already satisfied: ray[tune] in /usr/local/lib/python3.6/dist-packages (0.8.2)\n",
            "Requirement already satisfied: pytest in /usr/local/lib/python3.6/dist-packages (from ray[tune]) (3.6.4)\n",
            "Requirement already satisfied: six>=1.0.0 in /usr/local/lib/python3.6/dist-packages (from ray[tune]) (1.12.0)\n",
            "Requirement already satisfied: redis>=3.3.2 in /usr/local/lib/python3.6/dist-packages (from ray[tune]) (3.4.1)\n",
            "Requirement already satisfied: jsonschema in /usr/local/lib/python3.6/dist-packages (from ray[tune]) (2.6.0)\n",
            "Requirement already satisfied: aiohttp in /usr/local/lib/python3.6/dist-packages (from ray[tune]) (3.6.2)\n",
            "Requirement already satisfied: google in /usr/local/lib/python3.6/dist-packages (from ray[tune]) (2.0.3)\n",
            "Requirement already satisfied: pyyaml in /usr/local/lib/python3.6/dist-packages (from ray[tune]) (3.13)\n",
            "Requirement already satisfied: colorama in /usr/local/lib/python3.6/dist-packages (from ray[tune]) (0.4.3)\n",
            "Requirement already satisfied: numpy>=1.16 in /usr/local/lib/python3.6/dist-packages (from ray[tune]) (1.17.5)\n",
            "Requirement already satisfied: cloudpickle in /usr/local/lib/python3.6/dist-packages (from ray[tune]) (1.2.2)\n",
            "Requirement already satisfied: py-spy>=0.2.0 in /usr/local/lib/python3.6/dist-packages (from ray[tune]) (0.3.3)\n",
            "Requirement already satisfied: filelock in /usr/local/lib/python3.6/dist-packages (from ray[tune]) (3.0.12)\n",
            "Requirement already satisfied: funcsigs in /usr/local/lib/python3.6/dist-packages (from ray[tune]) (1.0.2)\n",
            "Requirement already satisfied: protobuf>=3.8.0 in /usr/local/lib/python3.6/dist-packages (from ray[tune]) (3.10.0)\n",
            "Requirement already satisfied: grpcio in /usr/local/lib/python3.6/dist-packages (from ray[tune]) (1.27.1)\n",
            "Requirement already satisfied: click in /usr/local/lib/python3.6/dist-packages (from ray[tune]) (7.0)\n",
            "Requirement already satisfied: packaging in /usr/local/lib/python3.6/dist-packages (from ray[tune]) (20.1)\n",
            "Requirement already satisfied: tensorboardX; extra == \"tune\" in /usr/local/lib/python3.6/dist-packages (from ray[tune]) (2.0)\n",
            "Requirement already satisfied: tabulate; extra == \"tune\" in /usr/local/lib/python3.6/dist-packages (from ray[tune]) (0.8.6)\n",
            "Requirement already satisfied: more-itertools>=4.0.0 in /usr/local/lib/python3.6/dist-packages (from pytest->ray[tune]) (8.2.0)\n",
            "Requirement already satisfied: pluggy<0.8,>=0.5 in /usr/local/lib/python3.6/dist-packages (from pytest->ray[tune]) (0.7.1)\n",
            "Requirement already satisfied: atomicwrites>=1.0 in /usr/local/lib/python3.6/dist-packages (from pytest->ray[tune]) (1.3.0)\n",
            "Requirement already satisfied: attrs>=17.4.0 in /usr/local/lib/python3.6/dist-packages (from pytest->ray[tune]) (19.3.0)\n",
            "Requirement already satisfied: py>=1.5.0 in /usr/local/lib/python3.6/dist-packages (from pytest->ray[tune]) (1.8.1)\n",
            "Requirement already satisfied: setuptools in /usr/local/lib/python3.6/dist-packages (from pytest->ray[tune]) (45.2.0)\n",
            "Requirement already satisfied: multidict<5.0,>=4.5 in /usr/local/lib/python3.6/dist-packages (from aiohttp->ray[tune]) (4.7.5)\n",
            "Requirement already satisfied: typing-extensions>=3.6.5; python_version < \"3.7\" in /usr/local/lib/python3.6/dist-packages (from aiohttp->ray[tune]) (3.6.6)\n",
            "Requirement already satisfied: yarl<2.0,>=1.0 in /usr/local/lib/python3.6/dist-packages (from aiohttp->ray[tune]) (1.4.2)\n",
            "Requirement already satisfied: idna-ssl>=1.0; python_version < \"3.7\" in /usr/local/lib/python3.6/dist-packages (from aiohttp->ray[tune]) (1.1.0)\n",
            "Requirement already satisfied: chardet<4.0,>=2.0 in /usr/local/lib/python3.6/dist-packages (from aiohttp->ray[tune]) (3.0.4)\n",
            "Requirement already satisfied: async-timeout<4.0,>=3.0 in /usr/local/lib/python3.6/dist-packages (from aiohttp->ray[tune]) (3.0.1)\n",
            "Requirement already satisfied: beautifulsoup4 in /usr/local/lib/python3.6/dist-packages (from google->ray[tune]) (4.6.3)\n",
            "Requirement already satisfied: pyparsing>=2.0.2 in /usr/local/lib/python3.6/dist-packages (from packaging->ray[tune]) (2.4.6)\n",
            "Requirement already satisfied: idna>=2.0 in /usr/local/lib/python3.6/dist-packages (from yarl<2.0,>=1.0->aiohttp->ray[tune]) (2.8)\n"
          ],
          "name": "stdout"
        }
      ]
    },
    {
      "cell_type": "code",
      "metadata": {
        "id": "wA_krXqJhbbm",
        "colab_type": "code",
        "colab": {}
      },
      "source": [
        "from ray import tune\n",
        "from ray.tune.suggest.variant_generator import generate_variants,flatten_resolved_vars\n",
        "import numpy as np"
      ],
      "execution_count": 0,
      "outputs": []
    },
    {
      "cell_type": "code",
      "metadata": {
        "id": "lfNvGKa2hc6p",
        "colab_type": "code",
        "colab": {}
      },
      "source": [
        "config={\n",
        "        \"alpha\": tune.sample_from(lambda spec: np.random.uniform(100)),\n",
        "        \"beta\":tune.sample_from(lambda spec: np.random.uniform(100)),\n",
        "        \"num_samples\" : 100\n",
        "    }"
      ],
      "execution_count": 0,
      "outputs": []
    },
    {
      "cell_type": "code",
      "metadata": {
        "id": "ukpvDkrvheDM",
        "colab_type": "code",
        "outputId": "42dcb6b6-2637-44cf-cf9f-c0a1b716ef22",
        "colab": {
          "base_uri": "https://localhost:8080/",
          "height": 1000
        }
      },
      "source": [
        "for _ in range(config.get(\"num_samples\", 1)):\n",
        "  for resolved_vars, _ in generate_variants(config):\n",
        "    hparams = flatten_resolved_vars(resolved_vars)\n",
        "    print(hparams)"
      ],
      "execution_count": 0,
      "outputs": [
        {
          "output_type": "stream",
          "text": [
            "{'alpha': 62.633147008320414, 'beta': 46.83115910780971}\n",
            "{'alpha': 83.16149681011734, 'beta': 98.3185203226811}\n",
            "{'alpha': 59.77939287834865, 'beta': 3.00960295581244}\n",
            "{'alpha': 45.913701750588935, 'beta': 79.48899927878907}\n",
            "{'alpha': 47.26022494639989, 'beta': 52.54619395086632}\n",
            "{'alpha': 61.34261906899381, 'beta': 7.680861407473429}\n",
            "{'alpha': 85.58176215418861, 'beta': 74.29375314206499}\n",
            "{'alpha': 90.7439111412466, 'beta': 79.1401967445927}\n",
            "{'alpha': 5.127214881800512, 'beta': 47.38936146757166}\n",
            "{'alpha': 46.73626586597305, 'beta': 78.98497649944582}\n",
            "{'alpha': 56.09353025187812, 'beta': 46.25709590783273}\n",
            "{'alpha': 76.12657205209284, 'beta': 5.509483992067771}\n",
            "{'alpha': 32.41597742252628, 'beta': 6.890417886499208}\n",
            "{'alpha': 71.6395835939214, 'beta': 28.420455515760366}\n",
            "{'alpha': 6.94213509087723, 'beta': 23.353147998780827}\n",
            "{'alpha': 48.31633436790239, 'beta': 69.0812670712993}\n",
            "{'alpha': 90.87260507714842, 'beta': 60.625819623061304}\n",
            "{'alpha': 99.53546740363866, 'beta': 80.33512219402874}\n",
            "{'alpha': 7.039749508600124, 'beta': 11.010645802328142}\n",
            "{'alpha': 62.82776775452901, 'beta': 37.3748743374065}\n",
            "{'alpha': 28.693434204902616, 'beta': 24.90391577153457}\n",
            "{'alpha': 75.37966289917586, 'beta': 54.45128602378958}\n",
            "{'alpha': 46.24445096300189, 'beta': 89.81838973517125}\n",
            "{'alpha': 27.519401906350623, 'beta': 22.01010264524338}\n",
            "{'alpha': 36.63829649289503, 'beta': 22.544706407699323}\n",
            "{'alpha': 97.58343356135641, 'beta': 90.38280132830846}\n",
            "{'alpha': 63.64731331116294, 'beta': 24.54426139392058}\n",
            "{'alpha': 3.97375878396457, 'beta': 76.16915714220697}\n",
            "{'alpha': 68.2713986140067, 'beta': 85.34304041874725}\n",
            "{'alpha': 81.42055830935061, 'beta': 97.13719714876879}\n",
            "{'alpha': 49.80811029011214, 'beta': 44.4834854454927}\n",
            "{'alpha': 72.87954921175364, 'beta': 14.073729342221213}\n",
            "{'alpha': 76.98691255333753, 'beta': 95.63229649105529}\n",
            "{'alpha': 57.79017836697589, 'beta': 55.12987416409673}\n",
            "{'alpha': 39.087752327007735, 'beta': 99.07228841222506}\n",
            "{'alpha': 15.434631198725356, 'beta': 44.25935788084221}\n",
            "{'alpha': 16.001144519039144, 'beta': 31.770816810968356}\n",
            "{'alpha': 58.71366347699211, 'beta': 96.12271783661248}\n",
            "{'alpha': 27.43108889631425, 'beta': 10.471451843658073}\n",
            "{'alpha': 87.09298229769087, 'beta': 43.03096183524894}\n",
            "{'alpha': 47.78442266829542, 'beta': 71.86761458963568}\n",
            "{'alpha': 8.775778892591802, 'beta': 56.0709996741662}\n",
            "{'alpha': 46.53678665932965, 'beta': 14.275233375584406}\n",
            "{'alpha': 10.675043859906921, 'beta': 23.20512695716178}\n",
            "{'alpha': 35.824248831829465, 'beta': 66.46707754974102}\n",
            "{'alpha': 78.82266625807443, 'beta': 56.32117391653772}\n",
            "{'alpha': 64.1465261410008, 'beta': 13.49264419171233}\n",
            "{'alpha': 86.31335014114703, 'beta': 87.56525357558853}\n",
            "{'alpha': 90.4666322216541, 'beta': 64.57281534258954}\n",
            "{'alpha': 75.48906754053853, 'beta': 76.21903305491695}\n",
            "{'alpha': 20.988457153465063, 'beta': 31.123929572847047}\n",
            "{'alpha': 94.93253525482751, 'beta': 41.89690964018645}\n",
            "{'alpha': 98.82193282053643, 'beta': 82.04662328151578}\n",
            "{'alpha': 60.48281222627362, 'beta': 94.02644918764513}\n",
            "{'alpha': 23.974768561924705, 'beta': 98.60899679095145}\n",
            "{'alpha': 94.49423709469208, 'beta': 99.44469978541031}\n",
            "{'alpha': 37.97035480639782, 'beta': 10.208309807297638}\n",
            "{'alpha': 3.568833472931871, 'beta': 85.96158458047015}\n",
            "{'alpha': 56.57302406352218, 'beta': 97.36758116988618}\n",
            "{'alpha': 47.041582911020825, 'beta': 91.13365864070484}\n",
            "{'alpha': 71.50080310132765, 'beta': 34.579113136850765}\n",
            "{'alpha': 68.20118011678237, 'beta': 1.7904408680813901}\n",
            "{'alpha': 1.297872432207896, 'beta': 36.46546232586147}\n",
            "{'alpha': 54.52149870027424, 'beta': 5.496334989769522}\n",
            "{'alpha': 4.044670468902353, 'beta': 95.59121861193849}\n",
            "{'alpha': 22.22938527484287, 'beta': 89.36527319975295}\n",
            "{'alpha': 67.26264647695669, 'beta': 72.2476328415787}\n",
            "{'alpha': 82.9615210478681, 'beta': 59.95830100575907}\n",
            "{'alpha': 6.071969871782443, 'beta': 55.76810212357515}\n",
            "{'alpha': 25.559646362644614, 'beta': 50.873241469558806}\n",
            "{'alpha': 59.81170561915114, 'beta': 42.64730504642363}\n",
            "{'alpha': 73.98278121010517, 'beta': 57.40501727284758}\n",
            "{'alpha': 63.80899903321354, 'beta': 50.6291476897573}\n",
            "{'alpha': 3.5347809374972314, 'beta': 60.06066294470657}\n",
            "{'alpha': 79.33599477563544, 'beta': 26.522554393268706}\n",
            "{'alpha': 92.53756774727724, 'beta': 79.77594625969007}\n",
            "{'alpha': 91.4069125219433, 'beta': 49.745860402592776}\n",
            "{'alpha': 53.613785057734695, 'beta': 28.18646816556253}\n",
            "{'alpha': 57.08278438717991, 'beta': 29.610616630482056}\n",
            "{'alpha': 23.431586064575697, 'beta': 43.50666028404119}\n",
            "{'alpha': 4.98679229243136, 'beta': 67.07601125196541}\n",
            "{'alpha': 88.83631306496198, 'beta': 13.612488695587558}\n",
            "{'alpha': 68.18823660990972, 'beta': 80.17125021059216}\n",
            "{'alpha': 48.475320701803604, 'beta': 20.30030335299965}\n",
            "{'alpha': 25.702008594258032, 'beta': 99.34204337062097}\n",
            "{'alpha': 98.94591661938635, 'beta': 50.6505488530669}\n",
            "{'alpha': 25.351246353799, 'beta': 99.88355167282346}\n",
            "{'alpha': 95.70309291212732, 'beta': 24.529958812413994}\n",
            "{'alpha': 12.38984791609002, 'beta': 53.77062876801062}\n",
            "{'alpha': 56.20387158982809, 'beta': 48.51532049674046}\n",
            "{'alpha': 55.71030924540779, 'beta': 64.96462314038813}\n",
            "{'alpha': 89.37772012051084, 'beta': 19.717591012665878}\n",
            "{'alpha': 81.90498702524141, 'beta': 44.934801474844505}\n",
            "{'alpha': 14.7033925620389, 'beta': 90.06893251574674}\n",
            "{'alpha': 93.54793614799506, 'beta': 52.72542500768946}\n",
            "{'alpha': 83.01108383623347, 'beta': 86.59837843068881}\n",
            "{'alpha': 28.054739503793456, 'beta': 77.22347010697813}\n",
            "{'alpha': 99.23650880857544, 'beta': 74.6197411896024}\n",
            "{'alpha': 73.41463771187618, 'beta': 3.349797279467822}\n",
            "{'alpha': 93.80072541483173, 'beta': 99.48219737549931}\n"
          ],
          "name": "stdout"
        }
      ]
    },
    {
      "cell_type": "code",
      "metadata": {
        "id": "3e6dMObrhf2T",
        "colab_type": "code",
        "colab": {}
      },
      "source": [
        ""
      ],
      "execution_count": 0,
      "outputs": []
    }
  ]
}